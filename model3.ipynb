{
 "cells": [
  {
   "cell_type": "code",
   "execution_count": 7,
   "metadata": {},
   "outputs": [
    {
     "ename": "ImportError",
     "evalue": "Keras requires TensorFlow 2.2 or higher. Install TensorFlow via `pip install tensorflow`",
     "output_type": "error",
     "traceback": [
      "\u001b[1;31m---------------------------------------------------------------------------\u001b[0m",
      "\u001b[1;31mImportError\u001b[0m                               Traceback (most recent call last)",
      "\u001b[1;32m~\\Anaconda3\\lib\\site-packages\\keras\\__init__.py\u001b[0m in \u001b[0;36m<module>\u001b[1;34m\u001b[0m\n\u001b[0;32m      2\u001b[0m \u001b[1;32mtry\u001b[0m\u001b[1;33m:\u001b[0m\u001b[1;33m\u001b[0m\u001b[1;33m\u001b[0m\u001b[0m\n\u001b[1;32m----> 3\u001b[1;33m     \u001b[1;32mfrom\u001b[0m \u001b[0mtensorflow\u001b[0m\u001b[1;33m.\u001b[0m\u001b[0mkeras\u001b[0m\u001b[1;33m.\u001b[0m\u001b[0mlayers\u001b[0m\u001b[1;33m.\u001b[0m\u001b[0mexperimental\u001b[0m\u001b[1;33m.\u001b[0m\u001b[0mpreprocessing\u001b[0m \u001b[1;32mimport\u001b[0m \u001b[0mRandomRotation\u001b[0m\u001b[1;33m\u001b[0m\u001b[1;33m\u001b[0m\u001b[0m\n\u001b[0m\u001b[0;32m      4\u001b[0m \u001b[1;32mexcept\u001b[0m \u001b[0mImportError\u001b[0m\u001b[1;33m:\u001b[0m\u001b[1;33m\u001b[0m\u001b[1;33m\u001b[0m\u001b[0m\n",
      "\u001b[1;31mImportError\u001b[0m: cannot import name 'RandomRotation' from 'tensorflow.keras.layers.experimental.preprocessing' (C:\\Users\\Pranav\\Anaconda3\\lib\\site-packages\\tensorflow_core\\python\\keras\\api\\_v2\\keras\\layers\\experimental\\preprocessing\\__init__.py)",
      "\nDuring handling of the above exception, another exception occurred:\n",
      "\u001b[1;31mImportError\u001b[0m                               Traceback (most recent call last)",
      "\u001b[1;32m<ipython-input-7-2cad073a93e6>\u001b[0m in \u001b[0;36m<module>\u001b[1;34m\u001b[0m\n\u001b[0;32m      1\u001b[0m \u001b[1;32mimport\u001b[0m \u001b[0mnumpy\u001b[0m \u001b[1;32mas\u001b[0m \u001b[0mnp\u001b[0m\u001b[1;33m\u001b[0m\u001b[1;33m\u001b[0m\u001b[0m\n\u001b[0;32m      2\u001b[0m \u001b[1;32mimport\u001b[0m \u001b[0mpandas\u001b[0m \u001b[1;32mas\u001b[0m \u001b[0mpd\u001b[0m\u001b[1;33m\u001b[0m\u001b[1;33m\u001b[0m\u001b[0m\n\u001b[1;32m----> 3\u001b[1;33m \u001b[1;32mfrom\u001b[0m \u001b[0mkeras\u001b[0m\u001b[1;33m.\u001b[0m\u001b[0mpreprocessing\u001b[0m\u001b[1;33m.\u001b[0m\u001b[0msequence\u001b[0m \u001b[1;32mimport\u001b[0m \u001b[0mpad_sequences\u001b[0m\u001b[1;33m\u001b[0m\u001b[1;33m\u001b[0m\u001b[0m\n\u001b[0m\u001b[0;32m      4\u001b[0m \u001b[1;32mimport\u001b[0m \u001b[0mtensorflow\u001b[0m \u001b[1;32mas\u001b[0m \u001b[0mtf\u001b[0m\u001b[1;33m\u001b[0m\u001b[1;33m\u001b[0m\u001b[0m\n",
      "\u001b[1;32m~\\Anaconda3\\lib\\site-packages\\keras\\__init__.py\u001b[0m in \u001b[0;36m<module>\u001b[1;34m\u001b[0m\n\u001b[0;32m      4\u001b[0m \u001b[1;32mexcept\u001b[0m \u001b[0mImportError\u001b[0m\u001b[1;33m:\u001b[0m\u001b[1;33m\u001b[0m\u001b[1;33m\u001b[0m\u001b[0m\n\u001b[0;32m      5\u001b[0m     raise ImportError(\n\u001b[1;32m----> 6\u001b[1;33m         \u001b[1;34m'Keras requires TensorFlow 2.2 or higher. '\u001b[0m\u001b[1;33m\u001b[0m\u001b[1;33m\u001b[0m\u001b[0m\n\u001b[0m\u001b[0;32m      7\u001b[0m         'Install TensorFlow via `pip install tensorflow`')\n\u001b[0;32m      8\u001b[0m \u001b[1;33m\u001b[0m\u001b[0m\n",
      "\u001b[1;31mImportError\u001b[0m: Keras requires TensorFlow 2.2 or higher. Install TensorFlow via `pip install tensorflow`"
     ]
    }
   ],
   "source": [
    "import numpy as np \n",
    "import pandas as pd\n",
    "from keras.preprocessing.sequence import pad_sequences\n",
    "import tensorflow as tf"
   ]
  },
  {
   "cell_type": "code",
   "execution_count": 8,
   "metadata": {},
   "outputs": [
    {
     "ename": "NameError",
     "evalue": "name 'tf' is not defined",
     "output_type": "error",
     "traceback": [
      "\u001b[1;31m---------------------------------------------------------------------------\u001b[0m",
      "\u001b[1;31mNameError\u001b[0m                                 Traceback (most recent call last)",
      "\u001b[1;32m<ipython-input-8-65996cac02ec>\u001b[0m in \u001b[0;36m<module>\u001b[1;34m\u001b[0m\n\u001b[1;32m----> 1\u001b[1;33m \u001b[0mtf\u001b[0m\u001b[1;33m.\u001b[0m\u001b[0m__version__\u001b[0m\u001b[1;33m\u001b[0m\u001b[1;33m\u001b[0m\u001b[0m\n\u001b[0m",
      "\u001b[1;31mNameError\u001b[0m: name 'tf' is not defined"
     ]
    }
   ],
   "source": [
    "tf.__version__"
   ]
  },
  {
   "cell_type": "code",
   "execution_count": null,
   "metadata": {},
   "outputs": [],
   "source": []
  },
  {
   "cell_type": "code",
   "execution_count": null,
   "metadata": {},
   "outputs": [],
   "source": [
    "# Load the TensorBoard notebook extension\n",
    "%reload_ext tensorboard"
   ]
  },
  {
   "cell_type": "code",
   "execution_count": null,
   "metadata": {},
   "outputs": [],
   "source": [
    "import tensorflow as tf\n",
    "import datetime, os"
   ]
  },
  {
   "cell_type": "code",
   "execution_count": null,
   "metadata": {},
   "outputs": [],
   "source": [
    "df = pd.read_csv(r\"C:\\Users\\Pranav\\Documents\\Python Scripts\\IMDB Dataset.csv\")\n"
   ]
  },
  {
   "cell_type": "code",
   "execution_count": null,
   "metadata": {},
   "outputs": [],
   "source": [
    "df.head()"
   ]
  },
  {
   "cell_type": "code",
   "execution_count": null,
   "metadata": {},
   "outputs": [],
   "source": [
    "df.shape\n"
   ]
  },
  {
   "cell_type": "code",
   "execution_count": null,
   "metadata": {},
   "outputs": [],
   "source": [
    "from nltk.corpus import stopwords\n",
    "stop_words =stopwords.words('english')\n",
    "def remove_stopwords(text):#remove_stopwords function gives stopwordfree sentences\n",
    "    words=[word for word in text.split() if word not in stop_words]\n",
    "    return words\n",
    "df[\"review_new\"]=df['review'].apply(lambda x: ' '.join(remove_stopwords(x)))    \n",
    "df.head()   "
   ]
  },
  {
   "cell_type": "code",
   "execution_count": 3,
   "metadata": {},
   "outputs": [
    {
     "ename": "NameError",
     "evalue": "name 'df' is not defined",
     "output_type": "error",
     "traceback": [
      "\u001b[1;31m---------------------------------------------------------------------------\u001b[0m",
      "\u001b[1;31mNameError\u001b[0m                                 Traceback (most recent call last)",
      "\u001b[1;32m<ipython-input-3-a84f1324bdff>\u001b[0m in \u001b[0;36m<module>\u001b[1;34m\u001b[0m\n\u001b[0;32m      1\u001b[0m \u001b[0mlables\u001b[0m \u001b[1;33m=\u001b[0m \u001b[1;33m[\u001b[0m\u001b[1;33m]\u001b[0m\u001b[1;33m\u001b[0m\u001b[1;33m\u001b[0m\u001b[0m\n\u001b[1;32m----> 2\u001b[1;33m \u001b[1;32mfor\u001b[0m \u001b[0mi\u001b[0m \u001b[1;32min\u001b[0m \u001b[0mdf\u001b[0m\u001b[1;33m[\u001b[0m\u001b[1;34m'sentiment'\u001b[0m\u001b[1;33m]\u001b[0m\u001b[1;33m:\u001b[0m\u001b[1;33m\u001b[0m\u001b[1;33m\u001b[0m\u001b[0m\n\u001b[0m\u001b[0;32m      3\u001b[0m     \u001b[1;32mif\u001b[0m \u001b[0mi\u001b[0m \u001b[1;33m==\u001b[0m \u001b[1;34m\"positive\"\u001b[0m\u001b[1;33m:\u001b[0m\u001b[1;33m\u001b[0m\u001b[1;33m\u001b[0m\u001b[0m\n\u001b[0;32m      4\u001b[0m         \u001b[0mlables\u001b[0m\u001b[1;33m.\u001b[0m\u001b[0mappend\u001b[0m\u001b[1;33m(\u001b[0m\u001b[1;36m1\u001b[0m\u001b[1;33m)\u001b[0m\u001b[1;33m\u001b[0m\u001b[1;33m\u001b[0m\u001b[0m\n\u001b[0;32m      5\u001b[0m     \u001b[1;32melse\u001b[0m\u001b[1;33m:\u001b[0m\u001b[1;33m\u001b[0m\u001b[1;33m\u001b[0m\u001b[0m\n",
      "\u001b[1;31mNameError\u001b[0m: name 'df' is not defined"
     ]
    }
   ],
   "source": [
    "lables = []\n",
    "for i in df['sentiment']:\n",
    "    if i == \"positive\":\n",
    "        lables.append(1)\n",
    "    else:\n",
    "        lables.append(0)\n",
    "Y = lables "
   ]
  },
  {
   "cell_type": "code",
   "execution_count": 174,
   "metadata": {},
   "outputs": [],
   "source": [
    "from keras.preprocessing.text import Tokenizer\n"
   ]
  },
  {
   "cell_type": "code",
   "execution_count": 175,
   "metadata": {},
   "outputs": [],
   "source": [
    "max_words = 10000 # We will only consider the 10K most used words in this dataset\n",
    "tokenizer = Tokenizer(num_words=max_words)     \n",
    "tokenizer.fit_on_texts(df['review_new']) \n",
    "sequences = tokenizer.texts_to_sequences(df['review_new']) "
   ]
  },
  {
   "cell_type": "code",
   "execution_count": 176,
   "metadata": {},
   "outputs": [],
   "source": [
    "word_index = tokenizer.word_index"
   ]
  },
  {
   "cell_type": "code",
   "execution_count": 177,
   "metadata": {},
   "outputs": [
    {
     "data": {
      "text/plain": [
       "(50000, 100)"
      ]
     },
     "execution_count": 177,
     "metadata": {},
     "output_type": "execute_result"
    }
   ],
   "source": [
    "from keras.preprocessing.sequence import pad_sequences\n",
    "maxlen = 100\n",
    "pad = pad_sequences(sequences, maxlen=100)\n",
    "pad.shape"
   ]
  },
  {
   "cell_type": "code",
   "execution_count": 178,
   "metadata": {},
   "outputs": [],
   "source": [
    "X = pad  #independent variable X\n"
   ]
  },
  {
   "cell_type": "code",
   "execution_count": 179,
   "metadata": {},
   "outputs": [],
   "source": [
    "from  keras.layers import Embedding ,Flatten, Dense\n",
    "from keras.models import Sequential"
   ]
  },
  {
   "cell_type": "code",
   "execution_count": 180,
   "metadata": {},
   "outputs": [],
   "source": [
    "f =open(r'C:\\Users\\Pranav\\Documents\\Python Scripts\\glove.6B.100d.txt', encoding=\"utf8\")\n"
   ]
  },
  {
   "cell_type": "code",
   "execution_count": 181,
   "metadata": {},
   "outputs": [],
   "source": [
    "# then after we need a mean and standard deviation of values\n",
    "embeddings_index = {}\n",
    "for line in f:                             \n",
    "    values = line.split()\n",
    "    word = values[0]\n",
    "    embedding = np.asarray(values[1:], dtype='float32') # Load embedding\n",
    "    embeddings_index[word] = embedding \n"
   ]
  },
  {
   "cell_type": "code",
   "execution_count": 182,
   "metadata": {},
   "outputs": [],
   "source": [
    "f.close()\n"
   ]
  },
  {
   "cell_type": "code",
   "execution_count": 183,
   "metadata": {},
   "outputs": [
    {
     "name": "stderr",
     "output_type": "stream",
     "text": [
      "C:\\Users\\Pranav\\Anaconda3\\lib\\site-packages\\ipykernel_launcher.py:1: FutureWarning: arrays to stack must be passed as a \"sequence\" type such as list or tuple. Support for non-sequence iterables such as generators is deprecated as of NumPy 1.16 and will raise an error in the future.\n",
      "  \"\"\"Entry point for launching an IPython kernel.\n"
     ]
    },
    {
     "name": "stdout",
     "output_type": "stream",
     "text": [
      "0.004451992\n",
      "0.4081574\n"
     ]
    }
   ],
   "source": [
    "\n",
    "all_emb=np.stack(embeddings_index.values())\n",
    "emb_mean = all_emb.mean()\n",
    "emb_std = all_emb.std()\n",
    "print(emb_mean)\n",
    "print(emb_std)"
   ]
  },
  {
   "cell_type": "code",
   "execution_count": 184,
   "metadata": {},
   "outputs": [
    {
     "name": "stdout",
     "output_type": "stream",
     "text": [
      "10000\n"
     ]
    }
   ],
   "source": [
    "\n",
    "embedding_dim = 100\n",
    "nb_words = min(max_words, len(word_index))\n",
    "print(nb_words)\n",
    "emb_matrix = np.random.normal(emb_mean,emb_std,(nb_words,embedding_dim))\n"
   ]
  },
  {
   "cell_type": "code",
   "execution_count": 185,
   "metadata": {},
   "outputs": [
    {
     "data": {
      "text/plain": [
       "(0.004832453938120693, 0.40761232719057705)"
      ]
     },
     "execution_count": 185,
     "metadata": {},
     "output_type": "execute_result"
    }
   ],
   "source": [
    "emb_matrix.mean(),emb_matrix.std()\n"
   ]
  },
  {
   "cell_type": "code",
   "execution_count": 186,
   "metadata": {},
   "outputs": [],
   "source": [
    "for word,i in word_index.items():\n",
    "    if i >= max_words:\n",
    "        continue\n",
    "    embedding_vector = embeddings_index.get(word)\n",
    "    # If there is an embedding vector, put it in the embedding matrix\n",
    "    if embedding_vector is not None: \n",
    "        emb_matrix[i] = embedding_vector"
   ]
  },
  {
   "cell_type": "code",
   "execution_count": 187,
   "metadata": {},
   "outputs": [
    {
     "name": "stdout",
     "output_type": "stream",
     "text": [
      "(10000, 100)\n"
     ]
    }
   ],
   "source": [
    "print(emb_matrix.shape)\n"
   ]
  },
  {
   "cell_type": "code",
   "execution_count": 188,
   "metadata": {},
   "outputs": [
    {
     "name": "stdout",
     "output_type": "stream",
     "text": [
      "Model: \"sequential_7\"\n",
      "_________________________________________________________________\n",
      "Layer (type)                 Output Shape              Param #   \n",
      "=================================================================\n",
      "embedding_7 (Embedding)      (None, 100, 100)          1000000   \n",
      "_________________________________________________________________\n",
      "flatten_7 (Flatten)          (None, 10000)             0         \n",
      "_________________________________________________________________\n",
      "dense_11 (Dense)             (None, 32)                320032    \n",
      "_________________________________________________________________\n",
      "dense_12 (Dense)             (None, 1)                 33        \n",
      "=================================================================\n",
      "Total params: 1,320,065\n",
      "Trainable params: 320,065\n",
      "Non-trainable params: 1,000,000\n",
      "_________________________________________________________________\n"
     ]
    }
   ],
   "source": [
    "model =Sequential()\n",
    "model.add(Embedding(max_words, embedding_dim, input_length=maxlen, weights = [emb_matrix], trainable = False))\n",
    "model.add(Flatten())\n",
    "model.add(Dense(32, activation='relu'))\n",
    "model.add(Dense(1, activation='sigmoid'))\n",
    "model.summary()"
   ]
  },
  {
   "cell_type": "code",
   "execution_count": 189,
   "metadata": {},
   "outputs": [
    {
     "name": "stdout",
     "output_type": "stream",
     "text": [
      "(12500, 100)\n",
      "Train on 37500 samples, validate on 12500 samples\n",
      "Epoch 1/10\n",
      "37500/37500 [==============================] - 6s 168us/step - loss: 0.5586 - acc: 0.7107 - val_loss: 0.4938 - val_acc: 0.7604\n",
      "Epoch 2/10\n",
      "37500/37500 [==============================] - 5s 142us/step - loss: 0.4527 - acc: 0.7864 - val_loss: 0.6144 - val_acc: 0.7027\n",
      "Epoch 3/10\n",
      "37500/37500 [==============================] - 5s 138us/step - loss: 0.4099 - acc: 0.8107 - val_loss: 0.4832 - val_acc: 0.7685\n",
      "Epoch 4/10\n",
      "37500/37500 [==============================] - 6s 154us/step - loss: 0.3777 - acc: 0.8281 - val_loss: 0.5058 - val_acc: 0.7654\n",
      "Epoch 5/10\n",
      "37500/37500 [==============================] - 5s 130us/step - loss: 0.3462 - acc: 0.8429 - val_loss: 0.5275 - val_acc: 0.7598\n",
      "Epoch 6/10\n",
      "37500/37500 [==============================] - 5s 121us/step - loss: 0.3131 - acc: 0.8628 - val_loss: 0.5474 - val_acc: 0.7521\n",
      "Epoch 7/10\n",
      "37500/37500 [==============================] - 4s 117us/step - loss: 0.2799 - acc: 0.8787 - val_loss: 0.6344 - val_acc: 0.7506\n",
      "Epoch 8/10\n",
      "37500/37500 [==============================] - 4s 109us/step - loss: 0.2484 - acc: 0.8935 - val_loss: 0.6953 - val_acc: 0.7450\n",
      "Epoch 9/10\n",
      "37500/37500 [==============================] - 5s 137us/step - loss: 0.2154 - acc: 0.9085 - val_loss: 0.7319 - val_acc: 0.7448\n",
      "Epoch 10/10\n",
      "37500/37500 [==============================] - 4s 113us/step - loss: 0.1858 - acc: 0.9236 - val_loss: 0.8127 - val_acc: 0.7481\n"
     ]
    }
   ],
   "source": [
    "\n",
    "\n",
    "\n",
    "model.compile(optimizer='adam',\n",
    "              loss='binary_crossentropy',metrics=['acc'])\n",
    "from sklearn.model_selection import train_test_split\n",
    "x_train,x_test,y_train,y_test = train_test_split(X,Y,test_size=0.25)\n",
    "print(x_test.shape)\n",
    "# logdir = os.path.join(\"logs\", datetime.datetime.now().strftime(\"%Y%m%d-%H%M%S\"))\n",
    "# tensorboard_callback= tf.keras.callbacks.TensorBoard(logdir, histogram_freq=1)\n",
    "\n",
    "\n",
    "# print(y_test[0])\n",
    "history = model.fit(x_train, y_train,\n",
    "                    epochs=10,\n",
    "                    batch_size=64,\n",
    "                    validation_data=(x_test, y_test) )\n"
   ]
  },
  {
   "cell_type": "code",
   "execution_count": 213,
   "metadata": {},
   "outputs": [
    {
     "name": "stdout",
     "output_type": "stream",
     "text": [
      "raw seq: [[2, 45, 2247, 2247, 612, 3, 48, 118, 612, 1275, 1557, 64, 732, 99, 3, 48, 123, 1821]]\n",
      "padded seq: [[   0    0    0    0    0    0    0    0    0    0    0    0    0    0\n",
      "     0    0    0    0    0    0    0    0    0    0    0    0    0    0\n",
      "     0    0    0    0    0    0    0    0    0    0    0    0    0    0\n",
      "     0    0    0    0    0    0    0    0    0    0    0    0    0    0\n",
      "     0    0    0    0    0    0    0    0    0    0    0    0    0    0\n",
      "     0    0    0    0    0    0    0    0    0    0    0    0    2   45\n",
      "  2247 2247  612    3   48  118  612 1275 1557   64  732   99    3   48\n",
      "   123 1821]]\n",
      "positivity: [[0.9585109]]\n"
     ]
    }
   ],
   "source": [
    "my_text = 'I love dogs. Dogs are the best. They are lovely, cuddly animals that only want the best for humans.'\n",
    "\n",
    "seq = tokenizer.texts_to_sequences([my_text])\n",
    "print('raw seq:',seq)\n",
    "seq = pad_sequences(seq, maxlen=maxlen)\n",
    "print('padded seq:',seq)\n",
    "prediction = model.predict(seq)\n",
    "print('positivity:',prediction)"
   ]
  },
  {
   "cell_type": "code",
   "execution_count": 214,
   "metadata": {},
   "outputs": [
    {
     "name": "stdout",
     "output_type": "stream",
     "text": [
      "raw seq: [[3, 127, 391, 200, 167, 77, 30, 431, 28, 307, 405]]\n",
      "padded seq: [[  0   0   0   0   0   0   0   0   0   0   0   0   0   0   0   0   0   0\n",
      "    0   0   0   0   0   0   0   0   0   0   0   0   0   0   0   0   0   0\n",
      "    0   0   0   0   0   0   0   0   0   0   0   0   0   0   0   0   0   0\n",
      "    0   0   0   0   0   0   0   0   0   0   0   0   0   0   0   0   0   0\n",
      "    0   0   0   0   0   0   0   0   0   0   0   0   0   0   0   0   0   3\n",
      "  127 391 200 167  77  30 431  28 307 405]]\n",
      "positivity: [[0.13380654]]\n"
     ]
    }
   ],
   "source": [
    "my_text = 'The action-drama comes out as a horrible made video game. '\n",
    "\n",
    "seq = tokenizer.texts_to_sequences([my_text])\n",
    "print('raw seq:',seq)\n",
    "seq = pad_sequences(seq, maxlen=maxlen)\n",
    "print('padded seq:',seq)\n",
    "prediction = model.predict(seq)\n",
    "print('positivity:',prediction)"
   ]
  },
  {
   "cell_type": "code",
   "execution_count": 192,
   "metadata": {},
   "outputs": [
    {
     "data": {
      "image/png": "[encoded data removed]",
      "text/plain": [
       "<Figure size 432x288 with 1 Axes>"
      ]
     },
     "metadata": {
      "needs_background": "light"
     },
     "output_type": "display_data"
    }
   ],
   "source": [
    "import matplotlib.pyplot as plt\n",
    "\n",
    "\n",
    "plt.plot(history.history['acc'])\n",
    "plt.plot(history.history['val_acc'])\n",
    "plt.title('model accuracy')\n",
    "plt.ylabel('accuracy')\n",
    "plt.xlabel('epoch')\n",
    "plt.legend(['train', 'test'], loc='upper left')\n",
    "plt.show()"
   ]
  },
  {
   "cell_type": "code",
   "execution_count": 193,
   "metadata": {},
   "outputs": [
    {
     "data": {
      "image/png": "[encoded data removed]",
      "text/plain": [
       "<Figure size 432x288 with 1 Axes>"
      ]
     },
     "metadata": {
      "needs_background": "light"
     },
     "output_type": "display_data"
    }
   ],
   "source": [
    "plt.plot(history.history['loss'])\n",
    "plt.plot(history.history['val_loss'])\n",
    "plt.title('model loss')\n",
    "plt.ylabel('loss')\n",
    "plt.xlabel('epoch')\n",
    "plt.legend(['train', 'test'], loc='upper left')\n",
    "plt.show()"
   ]
  },
  {
   "cell_type": "code",
   "execution_count": null,
   "metadata": {},
   "outputs": [],
   "source": []
  },
  {
   "cell_type": "code",
   "execution_count": 211,
   "metadata": {},
   "outputs": [
    {
     "name": "stdout",
     "output_type": "stream",
     "text": [
      "Model: \"sequential_11\"\n",
      "_________________________________________________________________\n",
      "Layer (type)                 Output Shape              Param #   \n",
      "=================================================================\n",
      "embedding_11 (Embedding)     (None, 100, 100)          1000000   \n",
      "_________________________________________________________________\n",
      "flatten_10 (Flatten)         (None, 10000)             0         \n",
      "_________________________________________________________________\n",
      "dense_19 (Dense)             (None, 32)                320032    \n",
      "_________________________________________________________________\n",
      "dense_20 (Dense)             (None, 1)                 33        \n",
      "=================================================================\n",
      "Total params: 1,320,065\n",
      "Trainable params: 320,065\n",
      "Non-trainable params: 1,000,000\n",
      "_________________________________________________________________\n"
     ]
    }
   ],
   "source": [
    "model1 = Sequential()\n",
    "model1.add(Embedding(max_words, embedding_dim, input_length=maxlen, weights = [emb_matrix], trainable = False))\n",
    "model1.add(Flatten())\n",
    "model1.add(Dense(32, activation='relu'))\n",
    "model1.add(Dense(1, activation='sigmoid'))\n",
    "#model1.add(Dropout(rate=0.5))\n",
    "model1.summary()"
   ]
  },
  {
   "cell_type": "code",
   "execution_count": 212,
   "metadata": {},
   "outputs": [
    {
     "name": "stdout",
     "output_type": "stream",
     "text": [
      "(12500, 100)\n",
      "Train on 37500 samples, validate on 12500 samples\n",
      "Epoch 1/50\n",
      "37500/37500 [==============================] - 10s 262us/step - loss: 0.6943 - acc: 0.4998 - val_loss: 0.6932 - val_acc: 0.4969\n",
      "Epoch 2/50\n",
      "37500/37500 [==============================] - 8s 222us/step - loss: 0.6310 - acc: 0.6423 - val_loss: 0.5545 - val_acc: 0.7398\n",
      "Epoch 3/50\n",
      "37500/37500 [==============================] - 9s 229us/step - loss: 0.4979 - acc: 0.7799 - val_loss: 0.5155 - val_acc: 0.7565\n",
      "Epoch 4/50\n",
      "37500/37500 [==============================] - 10s 265us/step - loss: 0.4424 - acc: 0.8070 - val_loss: 0.5160 - val_acc: 0.7579\n",
      "Epoch 5/50\n",
      "37500/37500 [==============================] - 11s 293us/step - loss: 0.4119 - acc: 0.8256 - val_loss: 0.5435 - val_acc: 0.7510\n",
      "Epoch 6/50\n",
      "37500/37500 [==============================] - 8s 205us/step - loss: 0.3919 - acc: 0.8355 - val_loss: 0.5407 - val_acc: 0.7535\n",
      "Epoch 7/50\n",
      "37500/37500 [==============================] - 8s 223us/step - loss: 0.3791 - acc: 0.8416 - val_loss: 0.5497 - val_acc: 0.7505\n",
      "Epoch 8/50\n",
      "37500/37500 [==============================] - 8s 223us/step - loss: 0.3676 - acc: 0.8498 - val_loss: 0.5635 - val_acc: 0.7463\n",
      "Epoch 9/50\n",
      "37500/37500 [==============================] - 6s 164us/step - loss: 0.3577 - acc: 0.8535 - val_loss: 0.5766 - val_acc: 0.7458\n",
      "Epoch 10/50\n",
      "37500/37500 [==============================] - 6s 169us/step - loss: 0.3532 - acc: 0.8574 - val_loss: 0.5967 - val_acc: 0.7475\n",
      "Epoch 11/50\n",
      "37500/37500 [==============================] - 6s 164us/step - loss: 0.3451 - acc: 0.8612 - val_loss: 0.6113 - val_acc: 0.7443\n",
      "Epoch 12/50\n",
      "37500/37500 [==============================] - 7s 194us/step - loss: 0.3407 - acc: 0.8649 - val_loss: 0.6108 - val_acc: 0.7450\n",
      "Epoch 13/50\n",
      "37500/37500 [==============================] - 7s 195us/step - loss: 0.3358 - acc: 0.8658 - val_loss: 0.6313 - val_acc: 0.7408\n",
      "Epoch 14/50\n",
      "37500/37500 [==============================] - 12s 307us/step - loss: 0.3298 - acc: 0.8705 - val_loss: 0.6487 - val_acc: 0.7378\n",
      "Epoch 15/50\n",
      "37500/37500 [==============================] - 10s 274us/step - loss: 0.3274 - acc: 0.8716 - val_loss: 0.6716 - val_acc: 0.7409\n",
      "Epoch 16/50\n",
      "37500/37500 [==============================] - 9s 239us/step - loss: 0.3222 - acc: 0.8746 - val_loss: 0.6939 - val_acc: 0.7374\n",
      "Epoch 17/50\n",
      "37500/37500 [==============================] - 8s 218us/step - loss: 0.3213 - acc: 0.8761 - val_loss: 0.6874 - val_acc: 0.7366\n",
      "Epoch 18/50\n",
      "37500/37500 [==============================] - 8s 209us/step - loss: 0.3169 - acc: 0.8775 - val_loss: 0.6796 - val_acc: 0.7319\n",
      "Epoch 19/50\n",
      "37500/37500 [==============================] - 8s 207us/step - loss: 0.3149 - acc: 0.8787 - val_loss: 0.6965 - val_acc: 0.7344\n",
      "Epoch 20/50\n",
      "37500/37500 [==============================] - 8s 224us/step - loss: 0.3128 - acc: 0.8799 - val_loss: 0.6900 - val_acc: 0.7324\n",
      "Epoch 21/50\n",
      "37500/37500 [==============================] - 8s 206us/step - loss: 0.3092 - acc: 0.8821 - val_loss: 0.7089 - val_acc: 0.7350\n",
      "Epoch 22/50\n",
      "37500/37500 [==============================] - 8s 208us/step - loss: 0.3080 - acc: 0.8829 - val_loss: 0.7196 - val_acc: 0.7342\n",
      "Epoch 23/50\n",
      "37500/37500 [==============================] - 6s 165us/step - loss: 0.3046 - acc: 0.8846 - val_loss: 0.7233 - val_acc: 0.7304\n",
      "Epoch 24/50\n",
      "37500/37500 [==============================] - 6s 164us/step - loss: 0.3035 - acc: 0.8846 - val_loss: 0.7372 - val_acc: 0.7322\n",
      "Epoch 25/50\n",
      "37500/37500 [==============================] - 6s 159us/step - loss: 0.3008 - acc: 0.8867 - val_loss: 0.7422 - val_acc: 0.7265\n",
      "Epoch 26/50\n",
      "37500/37500 [==============================] - 6s 167us/step - loss: 0.2999 - acc: 0.8881 - val_loss: 0.7644 - val_acc: 0.7322\n",
      "Epoch 27/50\n",
      "37500/37500 [==============================] - 7s 186us/step - loss: 0.2967 - acc: 0.8898 - val_loss: 0.7883 - val_acc: 0.7318\n",
      "Epoch 28/50\n",
      "37500/37500 [==============================] - 9s 248us/step - loss: 0.2944 - acc: 0.8912 - val_loss: 0.7794 - val_acc: 0.7290\n",
      "Epoch 29/50\n",
      "37500/37500 [==============================] - 9s 248us/step - loss: 0.2927 - acc: 0.8916 - val_loss: 0.8745 - val_acc: 0.7298\n",
      "Epoch 30/50\n",
      "37500/37500 [==============================] - 10s 254us/step - loss: 0.2921 - acc: 0.8919 - val_loss: 0.8865 - val_acc: 0.7283\n",
      "Epoch 31/50\n",
      "37500/37500 [==============================] - 10s 272us/step - loss: 0.2892 - acc: 0.8944 - val_loss: 0.8154 - val_acc: 0.7290\n",
      "Epoch 32/50\n",
      "37500/37500 [==============================] - 8s 225us/step - loss: 0.2866 - acc: 0.8950 - val_loss: 0.7950 - val_acc: 0.7260\n",
      "Epoch 33/50\n",
      "37500/37500 [==============================] - 7s 192us/step - loss: 0.2861 - acc: 0.8957 - val_loss: 0.8544 - val_acc: 0.7282\n",
      "Epoch 34/50\n",
      "37500/37500 [==============================] - 8s 218us/step - loss: 0.2848 - acc: 0.8953 - val_loss: 0.8341 - val_acc: 0.7282\n",
      "Epoch 35/50\n",
      "37500/37500 [==============================] - 8s 209us/step - loss: 0.2829 - acc: 0.8975 - val_loss: 0.8396 - val_acc: 0.7276\n",
      "Epoch 36/50\n",
      "37500/37500 [==============================] - 8s 217us/step - loss: 0.2839 - acc: 0.8965 - val_loss: 0.8439 - val_acc: 0.7269\n",
      "Epoch 37/50\n",
      "37500/37500 [==============================] - 6s 169us/step - loss: 0.2820 - acc: 0.8967 - val_loss: 0.8964 - val_acc: 0.7268\n",
      "Epoch 38/50\n",
      "37500/37500 [==============================] - 7s 179us/step - loss: 0.2798 - acc: 0.8985 - val_loss: 0.8590 - val_acc: 0.7177\n",
      "Epoch 39/50\n",
      "37500/37500 [==============================] - 7s 174us/step - loss: 0.2800 - acc: 0.8992 - val_loss: 0.9048 - val_acc: 0.7254\n",
      "Epoch 40/50\n",
      "37500/37500 [==============================] - 9s 228us/step - loss: 0.2759 - acc: 0.9018 - val_loss: 0.8535 - val_acc: 0.7202\n",
      "Epoch 41/50\n",
      "37500/37500 [==============================] - 9s 233us/step - loss: 0.2770 - acc: 0.8993 - val_loss: 0.8855 - val_acc: 0.7226\n",
      "Epoch 42/50\n",
      "37500/37500 [==============================] - 8s 216us/step - loss: 0.2745 - acc: 0.9011 - val_loss: 0.9515 - val_acc: 0.7278\n",
      "Epoch 43/50\n",
      "37500/37500 [==============================] - 8s 216us/step - loss: 0.2747 - acc: 0.9025 - val_loss: 0.9483 - val_acc: 0.7248\n",
      "Epoch 44/50\n",
      "37500/37500 [==============================] - 9s 237us/step - loss: 0.2751 - acc: 0.8998 - val_loss: 0.9457 - val_acc: 0.7234\n",
      "Epoch 45/50\n",
      "37500/37500 [==============================] - 8s 208us/step - loss: 0.2699 - acc: 0.9034 - val_loss: 0.9367 - val_acc: 0.7209\n",
      "Epoch 46/50\n",
      "37500/37500 [==============================] - 8s 225us/step - loss: 0.2691 - acc: 0.9045 - val_loss: 0.9439 - val_acc: 0.7214\n",
      "Epoch 47/50\n",
      "37500/37500 [==============================] - 8s 222us/step - loss: 0.2674 - acc: 0.9059 - val_loss: 1.0056 - val_acc: 0.7247\n",
      "Epoch 48/50\n",
      "37500/37500 [==============================] - 7s 189us/step - loss: 0.2655 - acc: 0.9064 - val_loss: 1.0786 - val_acc: 0.7231\n",
      "Epoch 49/50\n",
      "37500/37500 [==============================] - 10s 263us/step - loss: 0.2648 - acc: 0.9052 - val_loss: 0.9811 - val_acc: 0.7214\n",
      "Epoch 50/50\n",
      "37500/37500 [==============================] - 10s 266us/step - loss: 0.2635 - acc: 0.9075 - val_loss: 0.9898 - val_acc: 0.7226\n"
     ]
    }
   ],
   "source": [
    "\n",
    "model1.compile(optimizer='adam',\n",
    "              loss='binary_crossentropy',metrics=['acc'])\n",
    "from sklearn.model_selection import train_test_split\n",
    "x_train,x_test,y_train,y_test = train_test_split(X,Y,test_size=0.25,random_state=50)\n",
    "print(x_test.shape)\n",
    "# logdir = os.path.join(\"logs\", datetime.datetime.now().strftime(\"%Y%m%d-%H%M%S\"))\n",
    "# tensorboard_callback2 = tf.keras.callbacks.TensorBoard(logdir, histogram_freq=1)\n",
    "\n",
    "# print(y_test[0])\n",
    "history1 = model1.fit(x_train, y_train,\n",
    "                    epochs=50,\n",
    "                    batch_size=32,\n",
    "                    validation_data=(x_test, y_test), )\n"
   ]
  },
  {
   "cell_type": "code",
   "execution_count": 197,
   "metadata": {},
   "outputs": [
    {
     "name": "stdout",
     "output_type": "stream",
     "text": [
      "raw seq: [[2, 45, 2247, 2247, 612, 3, 48, 118, 612, 1275, 1557, 64, 732, 99, 3, 48, 123, 1821]]\n",
      "padded seq: [[   0    0    0    0    0    0    0    0    0    0    0    0    0    0\n",
      "     0    0    0    0    0    0    0    0    0    0    0    0    0    0\n",
      "     0    0    0    0    0    0    0    0    0    0    0    0    0    0\n",
      "     0    0    0    0    0    0    0    0    0    0    0    0    0    0\n",
      "     0    0    0    0    0    0    0    0    0    0    0    0    0    0\n",
      "     0    0    0    0    0    0    0    0    0    0    0    0    2   45\n",
      "  2247 2247  612    3   48  118  612 1275 1557   64  732   99    3   48\n",
      "   123 1821]]\n",
      "positivity: [[0.9999999]]\n"
     ]
    }
   ],
   "source": [
    "my_text = 'I love dogs. Dogs are the best. They are lovely, cuddly animals that only want the best for humans.'\n",
    "\n",
    "seq = tokenizer.texts_to_sequences([my_text])\n",
    "print('raw seq:',seq)\n",
    "seq = pad_sequences(seq, maxlen=maxlen)\n",
    "print('padded seq:',seq)\n",
    "prediction = model1.predict(seq)\n",
    "print('positivity:',prediction)"
   ]
  },
  {
   "cell_type": "code",
   "execution_count": 198,
   "metadata": {},
   "outputs": [
    {
     "name": "stdout",
     "output_type": "stream",
     "text": [
      "raw seq: [[3, 127, 391, 200, 167, 77, 30, 877, 28, 307, 405]]\n",
      "padded seq: [[  0   0   0   0   0   0   0   0   0   0   0   0   0   0   0   0   0   0\n",
      "    0   0   0   0   0   0   0   0   0   0   0   0   0   0   0   0   0   0\n",
      "    0   0   0   0   0   0   0   0   0   0   0   0   0   0   0   0   0   0\n",
      "    0   0   0   0   0   0   0   0   0   0   0   0   0   0   0   0   0   0\n",
      "    0   0   0   0   0   0   0   0   0   0   0   0   0   0   0   0   0   3\n",
      "  127 391 200 167  77  30 877  28 307 405]]\n",
      "positivity: [[0.00864511]]\n"
     ]
    }
   ],
   "source": [
    "my_text = ' The action-drama comes out as a badly made video game.'\n",
    "\n",
    "seq = tokenizer.texts_to_sequences([my_text])\n",
    "print('raw seq:',seq)\n",
    "seq = pad_sequences(seq, maxlen=maxlen)\n",
    "print('padded seq:',seq)\n",
    "prediction = model1.predict(seq)\n",
    "print('positivity:',prediction)"
   ]
  },
  {
   "cell_type": "code",
   "execution_count": 199,
   "metadata": {},
   "outputs": [
    {
     "data": {
      "image/png": "[encoded data removed]",
      "text/plain": [
       "<Figure size 432x288 with 1 Axes>"
      ]
     },
     "metadata": {
      "needs_background": "light"
     },
     "output_type": "display_data"
    }
   ],
   "source": [
    "import matplotlib.pyplot as plt\n",
    "\n",
    "\n",
    "plt.plot(history.history['acc'])\n",
    "plt.plot(history.history['val_acc'])\n",
    "plt.title('model accuracy')\n",
    "plt.ylabel('accuracy')\n",
    "plt.xlabel('epoch')\n",
    "plt.legend(['train', 'test'], loc='upper left')\n",
    "plt.show()"
   ]
  },
  {
   "cell_type": "code",
   "execution_count": 200,
   "metadata": {},
   "outputs": [
    {
     "data": {
      "image/png": "[encoded data removed]",
      "text/plain": [
       "<Figure size 432x288 with 1 Axes>"
      ]
     },
     "metadata": {
      "needs_background": "light"
     },
     "output_type": "display_data"
    }
   ],
   "source": [
    "plt.plot(history.history['loss'])\n",
    "plt.plot(history.history['val_loss'])\n",
    "plt.title('model loss')\n",
    "plt.ylabel('loss')\n",
    "plt.xlabel('epoch')\n",
    "plt.legend(['train', 'test'], loc='upper left')\n",
    "plt.show()"
   ]
  },
  {
   "cell_type": "code",
   "execution_count": 207,
   "metadata": {},
   "outputs": [
    {
     "name": "stdout",
     "output_type": "stream",
     "text": [
      "raw seq: [[121, 1403, 8740, 64, 3168, 9, 5374, 17, 3502, 3790, 687, 117, 17, 5322]]\n",
      "padded seq: [[   0    0    0    0    0    0    0    0    0    0    0    0    0    0\n",
      "     0    0    0    0    0    0    0    0    0    0    0    0    0    0\n",
      "     0    0    0    0    0    0    0    0    0    0    0    0    0    0\n",
      "     0    0    0    0    0    0    0    0    0    0    0    0    0    0\n",
      "     0    0    0    0    0    0    0    0    0    0    0    0    0    0\n",
      "     0    0    0    0    0    0    0    0    0    0    0    0    0    0\n",
      "     0    0  121 1403 8740   64 3168    9 5374   17 3502 3790  687  117\n",
      "    17 5322]]\n",
      "positivity: [[0.8516486]]\n"
     ]
    }
   ],
   "source": [
    "my_text = \"I've had mosquito bites that  than this undead, unrequited, and altogether unfun pseudo-romantic riff on 'Romeo and Juliet.\"\n",
    "\n",
    "seq = tokenizer.texts_to_sequences([my_text])\n",
    "print('raw seq:',seq)\n",
    "seq = pad_sequences(seq, maxlen=maxlen)\n",
    "print('padded seq:',seq)\n",
    "prediction = model1.predict(seq)\n",
    "print('positivity:',prediction)"
   ]
  },
  {
   "cell_type": "code",
   "execution_count": null,
   "metadata": {},
   "outputs": [],
   "source": []
  },
  {
   "cell_type": "code",
   "execution_count": 1,
   "metadata": {},
   "outputs": [
    {
     "ename": "NameError",
     "evalue": "name 'df' is not defined",
     "output_type": "error",
     "traceback": [
      "\u001b[1;31m---------------------------------------------------------------------------\u001b[0m",
      "\u001b[1;31mNameError\u001b[0m                                 Traceback (most recent call last)",
      "\u001b[1;32m<ipython-input-1-c42a15b2c7cf>\u001b[0m in \u001b[0;36m<module>\u001b[1;34m\u001b[0m\n\u001b[1;32m----> 1\u001b[1;33m \u001b[0mdf\u001b[0m\u001b[1;33m.\u001b[0m\u001b[0mhead\u001b[0m\u001b[1;33m(\u001b[0m\u001b[1;33m)\u001b[0m\u001b[1;33m\u001b[0m\u001b[1;33m\u001b[0m\u001b[0m\n\u001b[0m",
      "\u001b[1;31mNameError\u001b[0m: name 'df' is not defined"
     ]
    }
   ],
   "source": [
    "df.head()"
   ]
  },
  {
   "cell_type": "code",
   "execution_count": null,
   "metadata": {},
   "outputs": [],
   "source": []
  }
 ],
 "metadata": {
  "kernelspec": {
   "display_name": "Python 3",
   "language": "python",
   "name": "python3"
  },
  "language_info": {
   "codemirror_mode": {
    "name": "ipython",
    "version": 3
   },
   "file_extension": ".py",
   "mimetype": "text/x-python",
   "name": "python",
   "nbconvert_exporter": "python",
   "pygments_lexer": "ipython3",
   "version": "3.7.4"
  }
 },
 "nbformat": 4,
 "nbformat_minor": 2
}
