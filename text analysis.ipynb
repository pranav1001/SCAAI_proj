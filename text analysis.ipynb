{
 "cells": [
  {
   "cell_type": "code",
   "execution_count": 3,
   "metadata": {},
   "outputs": [],
   "source": [
    "import numpy as np \n",
    "import pandas as pd\n",
    "import matplotlib as plt"
   ]
  },
  {
   "cell_type": "code",
   "execution_count": 4,
   "metadata": {},
   "outputs": [],
   "source": [
    "df = pd.read_csv(r\"C:\\Users\\Pranav\\Documents\\Python Scripts\\IMDB Dataset.csv\")\n"
   ]
  },
  {
   "cell_type": "code",
   "execution_count": 5,
   "metadata": {},
   "outputs": [
    {
     "data": {
      "text/html": [
       "<div>\n",
       "<style scoped>\n",
       "    .dataframe tbody tr th:only-of-type {\n",
       "        vertical-align: middle;\n",
       "    }\n",
       "\n",
       "    .dataframe tbody tr th {\n",
       "        vertical-align: top;\n",
       "    }\n",
       "\n",
       "    .dataframe thead th {\n",
       "        text-align: right;\n",
       "    }\n",
       "</style>\n",
       "<table border=\"1\" class=\"dataframe\">\n",
       "  <thead>\n",
       "    <tr style=\"text-align: right;\">\n",
       "      <th></th>\n",
       "      <th>review</th>\n",
       "      <th>sentiment</th>\n",
       "    </tr>\n",
       "  </thead>\n",
       "  <tbody>\n",
       "    <tr>\n",
       "      <th>0</th>\n",
       "      <td>One of the other reviewers has mentioned that ...</td>\n",
       "      <td>positive</td>\n",
       "    </tr>\n",
       "    <tr>\n",
       "      <th>1</th>\n",
       "      <td>A wonderful little production. &lt;br /&gt;&lt;br /&gt;The...</td>\n",
       "      <td>positive</td>\n",
       "    </tr>\n",
       "    <tr>\n",
       "      <th>2</th>\n",
       "      <td>I thought this was a wonderful way to spend ti...</td>\n",
       "      <td>positive</td>\n",
       "    </tr>\n",
       "    <tr>\n",
       "      <th>3</th>\n",
       "      <td>Basically there's a family where a little boy ...</td>\n",
       "      <td>negative</td>\n",
       "    </tr>\n",
       "    <tr>\n",
       "      <th>4</th>\n",
       "      <td>Petter Mattei's \"Love in the Time of Money\" is...</td>\n",
       "      <td>positive</td>\n",
       "    </tr>\n",
       "  </tbody>\n",
       "</table>\n",
       "</div>"
      ],
      "text/plain": [
       "                                              review sentiment\n",
       "0  One of the other reviewers has mentioned that ...  positive\n",
       "1  A wonderful little production. <br /><br />The...  positive\n",
       "2  I thought this was a wonderful way to spend ti...  positive\n",
       "3  Basically there's a family where a little boy ...  negative\n",
       "4  Petter Mattei's \"Love in the Time of Money\" is...  positive"
      ]
     },
     "execution_count": 5,
     "metadata": {},
     "output_type": "execute_result"
    }
   ],
   "source": [
    "df.head()"
   ]
  },
  {
   "cell_type": "code",
   "execution_count": 7,
   "metadata": {},
   "outputs": [
    {
     "data": {
      "text/plain": [
       "(50000, 2)"
      ]
     },
     "execution_count": 7,
     "metadata": {},
     "output_type": "execute_result"
    }
   ],
   "source": [
    "df.shape"
   ]
  },
  {
   "cell_type": "code",
   "execution_count": 45,
   "metadata": {},
   "outputs": [],
   "source": [
    "df1= df['review']\n",
    "df1\n",
    "df['totalwords'] = df['review'].str.split().str.len()\n",
    "\n"
   ]
  },
  {
   "cell_type": "code",
   "execution_count": 46,
   "metadata": {},
   "outputs": [
    {
     "name": "stdout",
     "output_type": "stream",
     "text": [
      "Categories: ['positive' 'negative']\n",
      "Number of unique words: 49582\n",
      "Average Review length: 1309.43102\n",
      "Standard Deviation: 990.0\n",
      "Average Review length of positve reviews: 231.15694\n",
      "Standard Deviation: 171.0\n"
     ]
    }
   ],
   "source": [
    "print(\"Categories:\", df.sentiment.unique())\n",
    "print(\"Number of unique words:\", len(np.unique(np.hstack(df1))))\n",
    "\n",
    "length = [len(i) for i in df1]\n",
    "print(\"Average Review length:\", np.mean(length))\n",
    "print(\"Standard Deviation:\", round(np.std(length)))\n",
    "\n",
    "length = [i for i in df['totalwords']]\n",
    "print(\"Average Review length of positve reviews:\", np.mean(length))\n",
    "print(\"Standard Deviation:\", round(np.std(length)))"
   ]
  },
  {
   "cell_type": "code",
   "execution_count": 33,
   "metadata": {},
   "outputs": [
    {
     "data": {
      "text/plain": [
       "Text(0.5, 1.0, 'categories')"
      ]
     },
     "execution_count": 33,
     "metadata": {},
     "output_type": "execute_result"
    },
    {
     "data": {
      "image/png": "[encoded data removed]",
      "text/plain": [
       "<Figure size 432x288 with 1 Axes>"
      ]
     },
     "metadata": {
      "needs_background": "light"
     },
     "output_type": "display_data"
    }
   ],
   "source": [
    "import seaborn as sns\n",
    "\n",
    "ax = sns.countplot(x=\"sentiment\", data=df, palette=\"Blues_d\")\n",
    "ax.set_title('categories')"
   ]
  },
  {
   "cell_type": "code",
   "execution_count": 48,
   "metadata": {},
   "outputs": [
    {
     "data": {
      "text/html": [
       "<div>\n",
       "<style scoped>\n",
       "    .dataframe tbody tr th:only-of-type {\n",
       "        vertical-align: middle;\n",
       "    }\n",
       "\n",
       "    .dataframe tbody tr th {\n",
       "        vertical-align: top;\n",
       "    }\n",
       "\n",
       "    .dataframe thead th {\n",
       "        text-align: right;\n",
       "    }\n",
       "</style>\n",
       "<table border=\"1\" class=\"dataframe\">\n",
       "  <thead>\n",
       "    <tr style=\"text-align: right;\">\n",
       "      <th></th>\n",
       "      <th>review</th>\n",
       "      <th>sentiment</th>\n",
       "      <th>totalwords</th>\n",
       "    </tr>\n",
       "  </thead>\n",
       "  <tbody>\n",
       "    <tr>\n",
       "      <th>0</th>\n",
       "      <td>One of the other reviewers has mentioned that ...</td>\n",
       "      <td>positive</td>\n",
       "      <td>307</td>\n",
       "    </tr>\n",
       "    <tr>\n",
       "      <th>1</th>\n",
       "      <td>A wonderful little production. &lt;br /&gt;&lt;br /&gt;The...</td>\n",
       "      <td>positive</td>\n",
       "      <td>162</td>\n",
       "    </tr>\n",
       "    <tr>\n",
       "      <th>2</th>\n",
       "      <td>I thought this was a wonderful way to spend ti...</td>\n",
       "      <td>positive</td>\n",
       "      <td>166</td>\n",
       "    </tr>\n",
       "    <tr>\n",
       "      <th>4</th>\n",
       "      <td>Petter Mattei's \"Love in the Time of Money\" is...</td>\n",
       "      <td>positive</td>\n",
       "      <td>230</td>\n",
       "    </tr>\n",
       "    <tr>\n",
       "      <th>5</th>\n",
       "      <td>Probably my all-time favorite movie, a story o...</td>\n",
       "      <td>positive</td>\n",
       "      <td>119</td>\n",
       "    </tr>\n",
       "  </tbody>\n",
       "</table>\n",
       "</div>"
      ],
      "text/plain": [
       "                                              review sentiment  totalwords\n",
       "0  One of the other reviewers has mentioned that ...  positive         307\n",
       "1  A wonderful little production. <br /><br />The...  positive         162\n",
       "2  I thought this was a wonderful way to spend ti...  positive         166\n",
       "4  Petter Mattei's \"Love in the Time of Money\" is...  positive         230\n",
       "5  Probably my all-time favorite movie, a story o...  positive         119"
      ]
     },
     "execution_count": 48,
     "metadata": {},
     "output_type": "execute_result"
    }
   ],
   "source": [
    "df_pos= df[df['sentiment'] == 'positive']\n",
    "df_neg= df[df['sentiment'] == 'negative']\n",
    "df_pos.head()"
   ]
  },
  {
   "cell_type": "code",
   "execution_count": 49,
   "metadata": {},
   "outputs": [
    {
     "name": "stdout",
     "output_type": "stream",
     "text": [
      "Average Review length of positve reviews: 232.84932\n",
      "Standard Deviation: 177.0\n"
     ]
    }
   ],
   "source": [
    "length = [i for i in df_pos['totalwords']]\n",
    "print(\"Average Review length of positve reviews:\", np.mean(length))\n",
    "print(\"Standard Deviation:\", round(np.std(length)))"
   ]
  },
  {
   "cell_type": "code",
   "execution_count": 50,
   "metadata": {},
   "outputs": [
    {
     "name": "stdout",
     "output_type": "stream",
     "text": [
      "Average Review length of positve reviews: 229.46456\n",
      "Standard Deviation: 165.0\n"
     ]
    }
   ],
   "source": [
    "length = [i for i in df_neg['totalwords']]\n",
    "print(\"Average Review length of positve reviews:\", np.mean(length))\n",
    "print(\"Standard Deviation:\", round(np.std(length)))"
   ]
  },
  {
   "cell_type": "code",
   "execution_count": 51,
   "metadata": {},
   "outputs": [
    {
     "data": {
      "text/plain": [
       "[('the', 568735),\n",
       " ('a', 306960),\n",
       " ('and', 301919),\n",
       " ('of', 283625),\n",
       " ('to', 261850),\n",
       " ('is', 203056),\n",
       " ('in', 169981),\n",
       " ('I', 132498),\n",
       " ('that', 126818),\n",
       " ('this', 113726),\n",
       " ('it', 107916),\n",
       " ('/><br', 100974),\n",
       " ('was', 92658),\n",
       " ('as', 83130),\n",
       " ('with', 82569),\n",
       " ('for', 80919),\n",
       " ('The', 67317),\n",
       " ('but', 66282),\n",
       " ('on', 61197),\n",
       " ('movie', 60762),\n",
       " ('are', 56513),\n",
       " ('film', 54277),\n",
       " ('his', 54198),\n",
       " ('have', 54009),\n",
       " ('not', 52140),\n",
       " ('you', 50697),\n",
       " ('be', 50539),\n",
       " ('at', 42421),\n",
       " ('by', 42290),\n",
       " ('he', 42114),\n",
       " ('one', 41334),\n",
       " ('an', 41076),\n",
       " ('from', 37876),\n",
       " ('who', 37207),\n",
       " ('like', 36028),\n",
       " ('all', 35272),\n",
       " ('they', 35201),\n",
       " ('has', 32420),\n",
       " ('so', 32386),\n",
       " ('just', 32338),\n",
       " ('or', 32221),\n",
       " ('about', 32036),\n",
       " ('her', 29944),\n",
       " ('out', 28679),\n",
       " ('some', 28052),\n",
       " ('very', 25794),\n",
       " ('more', 25412),\n",
       " ('This', 24329),\n",
       " ('would', 23578),\n",
       " ('what', 23320),\n",
       " ('when', 22749),\n",
       " ('good', 22582),\n",
       " ('if', 22009),\n",
       " ('their', 21975),\n",
       " ('only', 21694),\n",
       " ('It', 21475),\n",
       " ('really', 21322),\n",
       " ('had', 21305),\n",
       " ('up', 21196),\n",
       " ('even', 20979),\n",
       " (\"it's\", 20949),\n",
       " ('can', 20863),\n",
       " ('which', 20703),\n",
       " ('were', 20552),\n",
       " ('see', 20364),\n",
       " ('my', 20356),\n",
       " ('no', 19951),\n",
       " ('than', 19043),\n",
       " ('she', 18980),\n",
       " ('-', 18201),\n",
       " ('there', 18160),\n",
       " ('been', 17883),\n",
       " ('into', 17515),\n",
       " ('get', 17333),\n",
       " ('will', 16938),\n",
       " ('much', 16827),\n",
       " ('story', 16443),\n",
       " ('because', 16371),\n",
       " ('other', 15745),\n",
       " ('most', 15508),\n",
       " ('time', 15312),\n",
       " ('we', 15191),\n",
       " ('me', 15173),\n",
       " ('make', 14859),\n",
       " ('do', 14775),\n",
       " ('how', 14754),\n",
       " ('could', 14689),\n",
       " ('also', 14607),\n",
       " ('people', 14414),\n",
       " ('its', 14385),\n",
       " ('great', 14385),\n",
       " ('/>The', 14335),\n",
       " ('first', 14283),\n",
       " ('any', 14199),\n",
       " (\"don't\", 13954),\n",
       " ('made', 13418),\n",
       " ('think', 13083),\n",
       " ('bad', 12847),\n",
       " ('him', 12506),\n",
       " ('being', 12290)]"
      ]
     },
     "execution_count": 51,
     "metadata": {},
     "output_type": "execute_result"
    }
   ],
   "source": [
    "from collections import Counter\n",
    "Counter(\" \".join(df[\"review\"]).split()).most_common(100)"
   ]
  },
  {
   "cell_type": "code",
   "execution_count": 59,
   "metadata": {},
   "outputs": [
    {
     "data": {
      "text/html": [
       "<div>\n",
       "<style scoped>\n",
       "    .dataframe tbody tr th:only-of-type {\n",
       "        vertical-align: middle;\n",
       "    }\n",
       "\n",
       "    .dataframe tbody tr th {\n",
       "        vertical-align: top;\n",
       "    }\n",
       "\n",
       "    .dataframe thead th {\n",
       "        text-align: right;\n",
       "    }\n",
       "</style>\n",
       "<table border=\"1\" class=\"dataframe\">\n",
       "  <thead>\n",
       "    <tr style=\"text-align: right;\">\n",
       "      <th></th>\n",
       "      <th>review</th>\n",
       "      <th>sentiment</th>\n",
       "      <th>totalwords</th>\n",
       "      <th>review_new</th>\n",
       "    </tr>\n",
       "  </thead>\n",
       "  <tbody>\n",
       "    <tr>\n",
       "      <th>0</th>\n",
       "      <td>One of the other reviewers has mentioned that ...</td>\n",
       "      <td>positive</td>\n",
       "      <td>307</td>\n",
       "      <td>One reviewers mentioned watching 1 Oz episode ...</td>\n",
       "    </tr>\n",
       "    <tr>\n",
       "      <th>1</th>\n",
       "      <td>A wonderful little production. &lt;br /&gt;&lt;br /&gt;The...</td>\n",
       "      <td>positive</td>\n",
       "      <td>162</td>\n",
       "      <td>A wonderful little production. filming techniq...</td>\n",
       "    </tr>\n",
       "    <tr>\n",
       "      <th>2</th>\n",
       "      <td>I thought this was a wonderful way to spend ti...</td>\n",
       "      <td>positive</td>\n",
       "      <td>166</td>\n",
       "      <td>thought wonderful spend time hot summer weeken...</td>\n",
       "    </tr>\n",
       "    <tr>\n",
       "      <th>3</th>\n",
       "      <td>Basically there's a family where a little boy ...</td>\n",
       "      <td>negative</td>\n",
       "      <td>138</td>\n",
       "      <td>Basically there's family little boy (Jake) thi...</td>\n",
       "    </tr>\n",
       "    <tr>\n",
       "      <th>4</th>\n",
       "      <td>Petter Mattei's \"Love in the Time of Money\" is...</td>\n",
       "      <td>positive</td>\n",
       "      <td>230</td>\n",
       "      <td>Petter Mattei's \"Love Time Money\" visually stu...</td>\n",
       "    </tr>\n",
       "  </tbody>\n",
       "</table>\n",
       "</div>"
      ],
      "text/plain": [
       "                                              review sentiment  totalwords  \\\n",
       "0  One of the other reviewers has mentioned that ...  positive         307   \n",
       "1  A wonderful little production. <br /><br />The...  positive         162   \n",
       "2  I thought this was a wonderful way to spend ti...  positive         166   \n",
       "3  Basically there's a family where a little boy ...  negative         138   \n",
       "4  Petter Mattei's \"Love in the Time of Money\" is...  positive         230   \n",
       "\n",
       "                                          review_new  \n",
       "0  One reviewers mentioned watching 1 Oz episode ...  \n",
       "1  A wonderful little production. filming techniq...  \n",
       "2  thought wonderful spend time hot summer weeken...  \n",
       "3  Basically there's family little boy (Jake) thi...  \n",
       "4  Petter Mattei's \"Love Time Money\" visually stu...  "
      ]
     },
     "execution_count": 59,
     "metadata": {},
     "output_type": "execute_result"
    }
   ],
   "source": [
    "import spacy\n",
    "sp = spacy.load('en_core_web_sm')\n",
    "\n",
    "stop_words = sp.Defaults.stop_words\n",
    "stop_words |= {'I',\"my_new_stopword2\",'/><br',\n",
    " 'The', 'movie',\n",
    " 'film', 'This',\n",
    " 'It',\n",
    " \"it's\",'-','/>The',\n",
    " '<br',\n",
    " 'But',\n",
    " 'it.',\n",
    " 'way','And','watch', 'know', 'seen'} \n",
    "\n",
    "\n",
    "\n",
    "def remove_stopwords(text):#remove_stopwords function gives stopwordfree sentences\n",
    "    words=[word for word in text.split() if word not in stop_words]\n",
    "    return words\n",
    "df[\"review_new\"]=df['review'].apply(lambda x: ' '.join(remove_stopwords(x)))    \n",
    "df.head()   "
   ]
  },
  {
   "cell_type": "code",
   "execution_count": 60,
   "metadata": {},
   "outputs": [
    {
     "data": {
      "text/plain": [
       "[('like', 36028),\n",
       " ('good', 22582),\n",
       " ('story', 16443),\n",
       " ('time', 15312),\n",
       " ('people', 14414),\n",
       " ('great', 14385),\n",
       " (\"don't\", 13954),\n",
       " ('think', 13083),\n",
       " ('bad', 12847),\n",
       " ('little', 11206),\n",
       " ('movie.', 10659),\n",
       " ('characters', 10448),\n",
       " ('character', 10307),\n",
       " (\"It's\", 10224),\n",
       " ('movies', 10118),\n",
       " ('love', 10033),\n",
       " ('best', 9899),\n",
       " ('A', 9655),\n",
       " ('In', 9482),\n",
       " ('films', 9406),\n",
       " ('plot', 9305),\n",
       " ('acting', 9182),\n",
       " ('He', 8894),\n",
       " ('film.', 8878),\n",
       " ('better', 8866),\n",
       " ('If', 8687),\n",
       " (\"doesn't\", 8529),\n",
       " (\"didn't\", 8281),\n",
       " ('scene', 8183),\n",
       " ('makes', 8144),\n",
       " ('film,', 8097),\n",
       " ('find', 7952),\n",
       " ('movie,', 7948),\n",
       " ('There', 7889),\n",
       " (\"I'm\", 7878),\n",
       " ('watching', 7757),\n",
       " ('real', 7716),\n",
       " ('scenes', 7713),\n",
       " ('actually', 7618),\n",
       " ('going', 7559),\n",
       " ('/>I', 7347),\n",
       " ('life', 7231),\n",
       " ('lot', 7229),\n",
       " ('look', 7111),\n",
       " ('&', 7063),\n",
       " ('thing', 6954),\n",
       " ('want', 6953),\n",
       " ('end', 6762),\n",
       " ('pretty', 6718),\n",
       " (\"can't\", 6699),\n",
       " ('man', 6670),\n",
       " ('old', 6640),\n",
       " ('got', 6630),\n",
       " ('actors', 6528),\n",
       " ('years', 6340),\n",
       " ('thought', 6151),\n",
       " ('it,', 6030),\n",
       " ('gets', 6023),\n",
       " (\"I've\", 5986),\n",
       " ('young', 5899),\n",
       " ('saw', 5895),\n",
       " ('things', 5894),\n",
       " (\"isn't\", 5851),\n",
       " ('work', 5660),\n",
       " ('They', 5580),\n",
       " ('cast', 5498),\n",
       " ('come', 5477),\n",
       " ('horror', 5384),\n",
       " ('bit', 5381),\n",
       " ('big', 5338),\n",
       " ('new', 5325),\n",
       " ('director', 5310),\n",
       " ('feel', 5266),\n",
       " ('probably', 5117),\n",
       " ('As', 5063),\n",
       " ('funny', 5045),\n",
       " ('far', 5027),\n",
       " ('kind', 5010),\n",
       " ('fact', 4987),\n",
       " ('long', 4981),\n",
       " ('found', 4981),\n",
       " ('\"The', 4871),\n",
       " ('original', 4865),\n",
       " (\"that's\", 4819),\n",
       " ('trying', 4704),\n",
       " ('You', 4662),\n",
       " ('comes', 4628),\n",
       " ('interesting', 4617),\n",
       " ('What', 4600),\n",
       " ('making', 4581),\n",
       " ('action', 4565),\n",
       " ('worst', 4490),\n",
       " ('believe', 4482),\n",
       " ('main', 4463),\n",
       " ('right', 4460),\n",
       " ('played', 4458),\n",
       " ('guy', 4414),\n",
       " ('She', 4404),\n",
       " (\"he's\", 4396),\n",
       " ('point', 4383)]"
      ]
     },
     "execution_count": 60,
     "metadata": {},
     "output_type": "execute_result"
    }
   ],
   "source": [
    "from collections import Counter\n",
    "Counter(\" \".join(df[\"review_new\"]).split()).most_common(100)"
   ]
  },
  {
   "cell_type": "code",
   "execution_count": 61,
   "metadata": {},
   "outputs": [
    {
     "name": "stderr",
     "output_type": "stream",
     "text": [
      "C:\\Users\\Pranav\\Anaconda3\\lib\\site-packages\\ipykernel_launcher.py:4: SettingWithCopyWarning: \n",
      "A value is trying to be set on a copy of a slice from a DataFrame.\n",
      "Try using .loc[row_indexer,col_indexer] = value instead\n",
      "\n",
      "See the caveats in the documentation: https://pandas.pydata.org/pandas-docs/stable/user_guide/indexing.html#returning-a-view-versus-a-copy\n",
      "  after removing the cwd from sys.path.\n",
      "C:\\Users\\Pranav\\Anaconda3\\lib\\site-packages\\ipykernel_launcher.py:5: SettingWithCopyWarning: \n",
      "A value is trying to be set on a copy of a slice from a DataFrame.\n",
      "Try using .loc[row_indexer,col_indexer] = value instead\n",
      "\n",
      "See the caveats in the documentation: https://pandas.pydata.org/pandas-docs/stable/user_guide/indexing.html#returning-a-view-versus-a-copy\n",
      "  \"\"\"\n"
     ]
    }
   ],
   "source": [
    "\n",
    "\n",
    "def remove_stopwords(text):#remove_stopwords function gives stopwordfree sentences\n",
    "    words=[word for word in text.split() if word not in stop_words]\n",
    "    return words\n",
    "df_pos[\"review_new\"]=df['review'].apply(lambda x: ' '.join(remove_stopwords(x)))    \n",
    "df_neg[\"review_new\"]=df['review'].apply(lambda x: ' '.join(remove_stopwords(x))) "
   ]
  },
  {
   "cell_type": "code",
   "execution_count": 63,
   "metadata": {},
   "outputs": [
    {
     "data": {
      "text/html": [
       "<div>\n",
       "<style scoped>\n",
       "    .dataframe tbody tr th:only-of-type {\n",
       "        vertical-align: middle;\n",
       "    }\n",
       "\n",
       "    .dataframe tbody tr th {\n",
       "        vertical-align: top;\n",
       "    }\n",
       "\n",
       "    .dataframe thead th {\n",
       "        text-align: right;\n",
       "    }\n",
       "</style>\n",
       "<table border=\"1\" class=\"dataframe\">\n",
       "  <thead>\n",
       "    <tr style=\"text-align: right;\">\n",
       "      <th></th>\n",
       "      <th>review</th>\n",
       "      <th>sentiment</th>\n",
       "      <th>totalwords</th>\n",
       "      <th>review_new</th>\n",
       "    </tr>\n",
       "  </thead>\n",
       "  <tbody>\n",
       "    <tr>\n",
       "      <th>3</th>\n",
       "      <td>Basically there's a family where a little boy ...</td>\n",
       "      <td>negative</td>\n",
       "      <td>138</td>\n",
       "      <td>Basically there's family little boy (Jake) thi...</td>\n",
       "    </tr>\n",
       "    <tr>\n",
       "      <th>7</th>\n",
       "      <td>This show was an amazing, fresh &amp; innovative i...</td>\n",
       "      <td>negative</td>\n",
       "      <td>174</td>\n",
       "      <td>amazing, fresh &amp; innovative idea 70's aired. 7...</td>\n",
       "    </tr>\n",
       "    <tr>\n",
       "      <th>8</th>\n",
       "      <td>Encouraged by the positive comments about this...</td>\n",
       "      <td>negative</td>\n",
       "      <td>130</td>\n",
       "      <td>Encouraged positive comments looking forward w...</td>\n",
       "    </tr>\n",
       "    <tr>\n",
       "      <th>10</th>\n",
       "      <td>Phil the Alien is one of those quirky films wh...</td>\n",
       "      <td>negative</td>\n",
       "      <td>96</td>\n",
       "      <td>Phil Alien quirky films humour based oddness a...</td>\n",
       "    </tr>\n",
       "    <tr>\n",
       "      <th>11</th>\n",
       "      <td>I saw this movie when I was about 12 when it c...</td>\n",
       "      <td>negative</td>\n",
       "      <td>180</td>\n",
       "      <td>saw 12 came out. recall scariest scene big bir...</td>\n",
       "    </tr>\n",
       "  </tbody>\n",
       "</table>\n",
       "</div>"
      ],
      "text/plain": [
       "                                               review sentiment  totalwords  \\\n",
       "3   Basically there's a family where a little boy ...  negative         138   \n",
       "7   This show was an amazing, fresh & innovative i...  negative         174   \n",
       "8   Encouraged by the positive comments about this...  negative         130   \n",
       "10  Phil the Alien is one of those quirky films wh...  negative          96   \n",
       "11  I saw this movie when I was about 12 when it c...  negative         180   \n",
       "\n",
       "                                           review_new  \n",
       "3   Basically there's family little boy (Jake) thi...  \n",
       "7   amazing, fresh & innovative idea 70's aired. 7...  \n",
       "8   Encouraged positive comments looking forward w...  \n",
       "10  Phil Alien quirky films humour based oddness a...  \n",
       "11  saw 12 came out. recall scariest scene big bir...  "
      ]
     },
     "execution_count": 63,
     "metadata": {},
     "output_type": "execute_result"
    }
   ],
   "source": [
    "df_neg.head()"
   ]
  },
  {
   "cell_type": "code",
   "execution_count": 64,
   "metadata": {},
   "outputs": [
    {
     "data": {
      "text/plain": [
       "[('like', 15665),\n",
       " ('good', 11318),\n",
       " ('great', 10331),\n",
       " ('story', 9331),\n",
       " ('time', 7712),\n",
       " ('people', 6819),\n",
       " ('best', 6752),\n",
       " ('love', 6705),\n",
       " ('think', 6527),\n",
       " ('little', 5795),\n",
       " (\"don't\", 5665),\n",
       " (\"It's\", 5231),\n",
       " ('films', 5226),\n",
       " ('A', 5215),\n",
       " ('He', 5122),\n",
       " ('character', 5101),\n",
       " ('characters', 5057),\n",
       " ('In', 5030),\n",
       " ('movies', 4683),\n",
       " ('makes', 4624),\n",
       " ('movie.', 4588),\n",
       " ('life', 4588),\n",
       " ('film.', 4548),\n",
       " ('film,', 4450),\n",
       " ('find', 4311),\n",
       " ('real', 4122),\n",
       " ('man', 3938),\n",
       " ('scene', 3882),\n",
       " ('lot', 3868),\n",
       " ('years', 3849),\n",
       " ('If', 3780),\n",
       " ('young', 3771),\n",
       " ('better', 3731),\n",
       " (\"doesn't\", 3619),\n",
       " ('scenes', 3578),\n",
       " ('acting', 3551),\n",
       " ('movie,', 3482),\n",
       " ('plot', 3474),\n",
       " ('/>I', 3427),\n",
       " ('There', 3424),\n",
       " ('old', 3323),\n",
       " ('going', 3271),\n",
       " ('saw', 3257),\n",
       " ('end', 3243),\n",
       " (\"didn't\", 3203),\n",
       " ('look', 3177),\n",
       " (\"I'm\", 3152),\n",
       " ('watching', 3121),\n",
       " ('bit', 3047),\n",
       " ('actually', 3040),\n",
       " ('work', 3034),\n",
       " ('new', 3029),\n",
       " ('cast', 3026),\n",
       " ('want', 2986),\n",
       " ('got', 2956),\n",
       " ('things', 2952),\n",
       " ('actors', 2942),\n",
       " ('&', 2940),\n",
       " ('it,', 2912),\n",
       " ('thought', 2879),\n",
       " (\"I've\", 2820),\n",
       " ('feel', 2812),\n",
       " ('gets', 2806),\n",
       " ('pretty', 2785),\n",
       " ('As', 2753),\n",
       " ('come', 2751),\n",
       " ('bad', 2744),\n",
       " ('performance', 2743),\n",
       " (\"can't\", 2728),\n",
       " ('music', 2679),\n",
       " ('role', 2655),\n",
       " ('played', 2655),\n",
       " ('\"The', 2603),\n",
       " ('big', 2592),\n",
       " ('series', 2579),\n",
       " ('found', 2567),\n",
       " ('She', 2558),\n",
       " ('shows', 2557),\n",
       " ('world', 2547),\n",
       " ('different', 2539),\n",
       " ('plays', 2521),\n",
       " ('They', 2520),\n",
       " ('long', 2516),\n",
       " ('especially', 2512),\n",
       " ('funny', 2495),\n",
       " ('family', 2482),\n",
       " ('thing', 2438),\n",
       " ('probably', 2436),\n",
       " (\"isn't\", 2430),\n",
       " ('right', 2408),\n",
       " ('excellent', 2399),\n",
       " ('comes', 2349),\n",
       " ('takes', 2345),\n",
       " ('/>This', 2318),\n",
       " ('fact', 2296),\n",
       " ('director', 2295),\n",
       " ('horror', 2293),\n",
       " ('beautiful', 2278),\n",
       " ('action', 2272),\n",
       " ('You', 2269)]"
      ]
     },
     "execution_count": 64,
     "metadata": {},
     "output_type": "execute_result"
    }
   ],
   "source": [
    "from collections import Counter\n",
    "Counter(\" \".join(df_pos[\"review_new\"]).split()).most_common(100)"
   ]
  },
  {
   "cell_type": "code",
   "execution_count": 65,
   "metadata": {},
   "outputs": [
    {
     "data": {
      "text/plain": [
       "[('like', 20363),\n",
       " ('good', 11264),\n",
       " ('bad', 10103),\n",
       " (\"don't\", 8289),\n",
       " ('time', 7600),\n",
       " ('people', 7595),\n",
       " ('story', 7112),\n",
       " ('think', 6556),\n",
       " ('movie.', 6071),\n",
       " ('plot', 5831),\n",
       " ('acting', 5631),\n",
       " ('movies', 5435),\n",
       " ('little', 5411),\n",
       " ('characters', 5391),\n",
       " ('character', 5206),\n",
       " ('better', 5135),\n",
       " (\"didn't\", 5078),\n",
       " (\"It's\", 4993),\n",
       " (\"doesn't\", 4910),\n",
       " ('If', 4907),\n",
       " (\"I'm\", 4726),\n",
       " ('watching', 4636),\n",
       " ('actually', 4578),\n",
       " ('thing', 4516),\n",
       " ('movie,', 4466),\n",
       " ('There', 4465),\n",
       " ('In', 4452),\n",
       " ('A', 4440),\n",
       " ('film.', 4330),\n",
       " ('scene', 4301),\n",
       " ('going', 4288),\n",
       " ('films', 4180),\n",
       " ('worst', 4135),\n",
       " ('scenes', 4135),\n",
       " ('&', 4123),\n",
       " ('great', 4054),\n",
       " (\"can't\", 3971),\n",
       " ('want', 3967),\n",
       " ('look', 3934),\n",
       " ('pretty', 3933),\n",
       " ('/>I', 3920),\n",
       " ('He', 3772),\n",
       " ('got', 3674),\n",
       " ('film,', 3647),\n",
       " ('find', 3641),\n",
       " ('real', 3594),\n",
       " ('actors', 3586),\n",
       " ('makes', 3520),\n",
       " ('end', 3519),\n",
       " (\"isn't\", 3421),\n",
       " ('lot', 3361),\n",
       " ('love', 3328),\n",
       " ('old', 3317),\n",
       " ('thought', 3272),\n",
       " ('gets', 3217),\n",
       " (\"I've\", 3166),\n",
       " ('best', 3147),\n",
       " ('it,', 3118),\n",
       " ('horror', 3091),\n",
       " ('They', 3060),\n",
       " ('minutes', 3039),\n",
       " ('director', 3015),\n",
       " ('things', 2942),\n",
       " ('guy', 2937),\n",
       " ('trying', 2836),\n",
       " (\"that's\", 2835),\n",
       " ('original', 2813),\n",
       " ('far', 2811),\n",
       " ('script', 2796),\n",
       " ('kind', 2794),\n",
       " ('What', 2756),\n",
       " ('big', 2746),\n",
       " ('looks', 2738),\n",
       " ('man', 2732),\n",
       " ('come', 2726),\n",
       " ('fact', 2691),\n",
       " ('probably', 2681),\n",
       " (\"wasn't\", 2663),\n",
       " ('life', 2643),\n",
       " ('saw', 2638),\n",
       " ('work', 2626),\n",
       " ('believe', 2611),\n",
       " ('making', 2609),\n",
       " ('point', 2587),\n",
       " ('funny', 2550),\n",
       " ('years', 2491),\n",
       " ('cast', 2472),\n",
       " ('long', 2465),\n",
       " ('feel', 2454),\n",
       " ('waste', 2418),\n",
       " ('looking', 2415),\n",
       " ('found', 2414),\n",
       " ('main', 2410),\n",
       " ('interesting', 2406),\n",
       " ('You', 2393),\n",
       " (\"he's\", 2346),\n",
       " ('bit', 2334),\n",
       " ('As', 2310),\n",
       " ('new', 2296),\n",
       " ('action', 2293)]"
      ]
     },
     "execution_count": 65,
     "metadata": {},
     "output_type": "execute_result"
    }
   ],
   "source": [
    "from collections import Counter\n",
    "Counter(\" \".join(df_neg[\"review_new\"]).split()).most_common(100)"
   ]
  },
  {
   "cell_type": "code",
   "execution_count": 69,
   "metadata": {},
   "outputs": [
    {
     "name": "stdout",
     "output_type": "stream",
     "text": [
      "Review length: \n"
     ]
    },
    {
     "data": {
      "image/png": "[encoded data removed]",
      "text/plain": [
       "<Figure size 432x288 with 1 Axes>"
      ]
     },
     "metadata": {
      "needs_background": "light"
     },
     "output_type": "display_data"
    }
   ],
   "source": [
    "import matplotlib.pyplot as plt \n",
    "# Summarize review length\n",
    "print(\"Review length: \")\n",
    "# plot review length\n",
    "plt.boxplot(df['totalwords'])\n",
    "plt.show()"
   ]
  },
  {
   "cell_type": "code",
   "execution_count": 70,
   "metadata": {},
   "outputs": [
    {
     "data": {
      "image/png": "[encoded data removed]",
      "text/plain": [
       "<Figure size 432x288 with 1 Axes>"
      ]
     },
     "metadata": {
      "needs_background": "light"
     },
     "output_type": "display_data"
    },
    {
     "data": {
      "image/png": "[encoded data removed]",
      "text/plain": [
       "<Figure size 432x288 with 1 Axes>"
      ]
     },
     "metadata": {
      "needs_background": "light"
     },
     "output_type": "display_data"
    }
   ],
   "source": [
    "plt.boxplot(df_pos['totalwords'])\n",
    "plt.show()\n",
    "plt.boxplot(df_neg['totalwords'])\n",
    "plt.show()"
   ]
  },
  {
   "cell_type": "code",
   "execution_count": 72,
   "metadata": {},
   "outputs": [
    {
     "data": {
      "image/png": "[encoded data removed]",
      "text/plain": [
       "<Figure size 432x288 with 1 Axes>"
      ]
     },
     "metadata": {
      "needs_background": "light"
     },
     "output_type": "display_data"
    }
   ],
   "source": [
    "from wordcloud import WordCloud, STOPWORDS, ImageColorGenerator\n",
    "text= df.review_new[0]\n",
    "\n",
    "wordcloud = WordCloud(max_font_size=50, max_words=100, background_color=\"white\").generate(text)\n",
    "plt.figure()\n",
    "plt.imshow(wordcloud, interpolation=\"bilinear\")\n",
    "plt.axis(\"off\")\n",
    "plt.show()"
   ]
  },
  {
   "cell_type": "code",
   "execution_count": null,
   "metadata": {},
   "outputs": [],
   "source": []
  }
 ],
 "metadata": {
  "kernelspec": {
   "display_name": "Python 3",
   "language": "python",
   "name": "python3"
  },
  "language_info": {
   "codemirror_mode": {
    "name": "ipython",
    "version": 3
   },
   "file_extension": ".py",
   "mimetype": "text/x-python",
   "name": "python",
   "nbconvert_exporter": "python",
   "pygments_lexer": "ipython3",
   "version": "3.7.4"
  }
 },
 "nbformat": 4,
 "nbformat_minor": 2
}
